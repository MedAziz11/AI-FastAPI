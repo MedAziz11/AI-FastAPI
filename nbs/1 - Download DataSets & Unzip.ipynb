{
 "cells": [
  {
   "cell_type": "code",
   "execution_count": 15,
   "id": "302f2cf2",
   "metadata": {},
   "outputs": [
    {
     "data": {
      "text/plain": [
       "WindowsPath('D:/Github/AI-FastAPI/datasets/zips')"
      ]
     },
     "execution_count": 15,
     "metadata": {},
     "output_type": "execute_result"
    }
   ],
   "source": [
    "import pathlib\n",
    "\n",
    "BASE_DIR = pathlib.Path().resolve().parent\n",
    "DATASET_DIR = BASE_DIR / \"datasets\"\n",
    "ZIP_DIR = DATASET_DIR / \"zips\"\n",
    "\n",
    "ZIP_DIR.mkdir(exist_ok=True, parents=True)\n",
    "\n",
    "SMS_SPAM_ZIP_PATH= ZIP_DIR / \"spam-sms-dataset.zip\"\n",
    "YT_SPAM_ZIP_PATH= ZIP_DIR / \"spam-yt-dataset.zip\"\n",
    "ZIP_DIR"
   ]
  },
  {
   "cell_type": "code",
   "execution_count": 16,
   "id": "985f97c8",
   "metadata": {},
   "outputs": [],
   "source": [
    "YT_SPAM_ZIP = \"https://archive.ics.uci.edu/ml/machine-learning-databases/00380/YouTube-Spam-Collection-v1.zip\"\n",
    "SMS_SPAM_ZIP = \"https://archive.ics.uci.edu/ml/machine-learning-databases/00228/smsspamcollection.zip\""
   ]
  },
  {
   "cell_type": "code",
   "execution_count": 17,
   "id": "5d2554e1",
   "metadata": {},
   "outputs": [
    {
     "name": "stderr",
     "output_type": "stream",
     "text": [
      "  % Total    % Received % Xferd  Average Speed   Time    Time     Time  Current\n",
      "                                 Dload  Upload   Total   Spent    Left  Speed\n",
      "\n",
      "  0     0    0     0    0     0      0      0 --:--:-- --:--:-- --:--:--     0\n",
      "  0     0    0     0    0     0      0      0 --:--:-- --:--:-- --:--:--     0\n",
      "  7  198k    7 15872    0     0  15872      0  0:00:12  0:00:01  0:00:11 11818\n",
      " 39  198k   39 79360    0     0  39680      0  0:00:05  0:00:02  0:00:03 36287\n",
      " 85  198k   85  170k    0     0  58197      0  0:00:03  0:00:03 --:--:-- 54508\n",
      "100  198k  100  198k    0     0  67805      0  0:00:03  0:00:03 --:--:-- 59443\n",
      "  % Total    % Received % Xferd  Average Speed   Time    Time     Time  Current\n",
      "                                 Dload  Upload   Total   Spent    Left  Speed\n",
      "\n",
      "  0     0    0     0    0     0      0      0 --:--:-- --:--:-- --:--:--     0\n",
      "  0     0    0     0    0     0      0      0 --:--:-- --:--:-- --:--:--     0\n",
      " 19  159k   19 31744    0     0  15872      0  0:00:10  0:00:02  0:00:08 15753\n",
      " 29  159k   29 47616    0     0  23808      0  0:00:06  0:00:02  0:00:04 17121\n",
      " 29  159k   29 47616    0     0  15872      0  0:00:10  0:00:03  0:00:07 12240\n",
      " 38  159k   38 63488    0     0  15872      0  0:00:10  0:00:04  0:00:06 13279\n",
      " 58  159k   58 95232    0     0  19046      0  0:00:08  0:00:05  0:00:03 19046\n",
      " 67  159k   67  108k    0     0  18517      0  0:00:08  0:00:06  0:00:02 16870\n",
      "100  159k  100  159k    0     0  23366      0  0:00:07  0:00:07 --:--:-- 24252\n"
     ]
    }
   ],
   "source": [
    "!curl $SMS_SPAM_ZIP -o $SMS_SPAM_ZIP_PATH\n",
    "\n",
    "!curl $YT_SPAM_ZIP -o $YT_SPAM_ZIP_PATH"
   ]
  },
  {
   "cell_type": "code",
   "execution_count": 18,
   "id": "6f57a329",
   "metadata": {},
   "outputs": [],
   "source": [
    "SPAM_CLASSIFIER_DIR = DATASET_DIR / \"spam-classifier\"\n",
    "SMS_SPAM_DIR = SPAM_CLASSIFIER_DIR / \"spam-sms\"\n",
    "YT_SPAM_DIR = SPAM_CLASSIFIER_DIR / \"spam-yt\"\n",
    "\n",
    "SMS_SPAM_DIR.mkdir(exist_ok=True, parents=True)\n",
    "YT_SPAM_DIR.mkdir(exist_ok=True, parents=True)"
   ]
  },
  {
   "cell_type": "code",
   "execution_count": 23,
   "id": "798aa5da",
   "metadata": {},
   "outputs": [
    {
     "name": "stderr",
     "output_type": "stream",
     "text": [
      "'Expand-Archive' is not recognized as an internal or external command,\n",
      "operable program or batch file.\n"
     ]
    }
   ],
   "source": [
    "!unzip -o $SMS_SPAM_ZIP_PATH -d $SMS_SPAM_DIR\n",
    "\n",
    "!unzip -o $YT_SPAM_ZIP_PATH -d $YT_SPAM_DIR"
   ]
  },
  {
   "cell_type": "code",
   "execution_count": null,
   "id": "65294232",
   "metadata": {},
   "outputs": [],
   "source": []
  }
 ],
 "metadata": {
  "kernelspec": {
   "display_name": "Python 3 (ipykernel)",
   "language": "python",
   "name": "python3"
  },
  "language_info": {
   "codemirror_mode": {
    "name": "ipython",
    "version": 3
   },
   "file_extension": ".py",
   "mimetype": "text/x-python",
   "name": "python",
   "nbconvert_exporter": "python",
   "pygments_lexer": "ipython3",
   "version": "3.9.7"
  }
 },
 "nbformat": 4,
 "nbformat_minor": 5
}
